{
 "cells": [
  {
   "cell_type": "markdown",
   "metadata": {},
   "source": [
    "# Utiliser Python avec des données géographiques: une introduction"
   ]
  },
  {
   "cell_type": "markdown",
   "metadata": {
    "heading_collapsed": true
   },
   "source": [
    "## 1. Aperçu"
   ]
  },
  {
   "cell_type": "markdown",
   "metadata": {
    "hidden": true
   },
   "source": [
    "Python est un langage de programmation puissant et facile à utiliser et apprendre. Python est très utilisé comme **langage de scriptage** dans beaucoup de logiciels, notamment dans le domaine SIG (p.ex. QuantumGIS ou ArcGIS). Il permet de développer rapidement des petits scripts comme des applications complètes. Python possède également une riche bibliothèque d’extensions permettant d’accéder à des nombreuses librairies spécialisées. En plus, il est facile d’ajouter des nouvelles fonctionnalités grâce à des modules. Sa relative facilité d'utilisation combiné avec les possibilités d'extension ont rendu ce langage populaire dans beaucoup de domaines, dont l'analyse de données («data science» en anglais), et les SIG.\n",
    "\n",
    "Python est un **langage interprété**, ce qui rend possible le développement rapide sans compilation. Des langages comme C, C++ ou Java sont des langages compilés, c’est-à-dire le code doit d’abord être traduit en code machine avant d’être exécuté. Dans le cas d’un langage interprété, cette étape de compilation et faite pendant l’exécution du logiciel. Ceci rend le code un peu plus lent, mais accélère et facilite considérablement le développement.\n",
    "\n",
    "Python est un langage open-source; l’interpréteur Python ainsi que les librairies standard peuvent être téléchargés librement depuis le [site Web Python](http://www.python.org).\n",
    "\n",
    "Python est un langage multi-plateforme. L’interpréteur et le code écrit tournent en principe sur toutes les plateformes majeures."
   ]
  },
  {
   "cell_type": "markdown",
   "metadata": {
    "heading_collapsed": true,
    "hidden": true
   },
   "source": [
    "### 1.1 Documentation"
   ]
  },
  {
   "cell_type": "markdown",
   "metadata": {
    "hidden": true
   },
   "source": [
    "Python possède une riche documentation accessible sur Internet, sur [python.org](http://www.python.org) (en anglais). La page [wiki.python.org/moin/FrenchLanguage](http://wiki.python.org/moin/FrenchLanguage) donne un aperçu de la documentation Python en français.\n",
    "\n",
    "Nous allons utiliser beaucoup la documentation, car il est impossible de mémoriser toutes les fonctions et astuces.\n",
    "\n",
    "Il est possible de télécharger l'archive complet, si vous ne possédez pas tout le temps une connexion Internet.\n",
    "\n",
    "Il y a aussi de nombreux tutoriels pour apprendre Python, par exemple: [dept-info.labri.fr/ENSEIGNEMENT/projetprog1/TutorielPython.pdf](http://dept-info.labri.fr/ENSEIGNEMENT/projetprog1/TutorielPython.pdf). Ce tutoriel est plus complet que ce cours, mais présente évidemment uniquement une introduction à Python, sans focaliser sur les données spatiales."
   ]
  },
  {
   "cell_type": "markdown",
   "metadata": {
    "hidden": true
   },
   "source": [
    "Python peut être utilisé de deux manières différentes: en **mode interactif** et en **mode script** où un fichier enregistré sur le disque est exécuté. Nous commençons d’abord par le mode interactif. Sur un système Unix, l’interpréteur Python peut généralement être lancé depuis le Terminal en tapant\n",
    "\n",
    "    python\n",
    "    \n",
    "Parfois, un interpréteur un peu plus sophistiqué est installé; il s’appelle `iPython` (pour interactive python). Si iPython n'est pas installé, il vaut la peine de l'installer. Pour le lancer, simplement taper\n",
    "\n",
    "    ipython\n",
    "\n",
    "Python démarre alors la console avec quelques informations sur la version, et puis attend notre code: \n",
    "\n",
    "![Figure 1. La console Python](img/console-python.png)"
   ]
  },
  {
   "cell_type": "markdown",
   "metadata": {
    "heading_collapsed": true
   },
   "source": [
    "## 2. Un bref exemple pour démarrer"
   ]
  },
  {
   "cell_type": "markdown",
   "metadata": {
    "hidden": true
   },
   "source": [
    "Essayons le code suivant: "
   ]
  },
  {
   "cell_type": "code",
   "execution_count": 1,
   "metadata": {
    "collapsed": false,
    "hidden": true
   },
   "outputs": [
    {
     "name": "stdout",
     "output_type": "stream",
     "text": [
      "Hello Paul\n"
     ]
    }
   ],
   "source": [
    "a = \"Paul\"\n",
    "if a == \"Paul\":\n",
    "    print \"Hello Paul\"\n",
    "else:\n",
    "    print \"Hello inconnu\" "
   ]
  },
  {
   "cell_type": "markdown",
   "metadata": {
    "hidden": true
   },
   "source": [
    "Ceci montre déjà quelques caractéristiques typiques de Python:\n",
    "\n",
    "- `a = \"Paul\"` définit une nouvelle **variable** contenant un «string»\n",
    "- Il n'y a **pas de caractère de fin de ligne** comme dans C ou Java (mais ça marche tout de même avec un point-virgule...)\n",
    "- Dans une condition `if ... else ...`, il n'y a *pas d'accolades* {...}, mais un double-point\n",
    "- **L'indentation est importante**: elle permet de regrouper les instructions\n",
    "\n",
    "Pour quitter la console Python, vous pouvez taper Ctrl-D. "
   ]
  },
  {
   "cell_type": "markdown",
   "metadata": {
    "heading_collapsed": true,
    "hidden": true
   },
   "source": [
    "### 2.1 Commentez votre code!"
   ]
  },
  {
   "cell_type": "markdown",
   "metadata": {
    "hidden": true
   },
   "source": [
    "Il est très important d'écrire des commentaires qui font du sens. Ils sont là pour que vous compreniez votre code plus tard, et pour que votre collègue le comprenne aussi.\n",
    "\n",
    "En Python, tout ce qui suit un dièse (`#`) est ignoré jusqu'à la fin de la ligne. Essayez:"
   ]
  },
  {
   "cell_type": "code",
   "execution_count": 2,
   "metadata": {
    "collapsed": false,
    "hidden": true
   },
   "outputs": [
    {
     "name": "stdout",
     "output_type": "stream",
     "text": [
      "Bonjour!\n"
     ]
    }
   ],
   "source": [
    "# Moi, je vous dis que ce programme ne fait presque rien\n",
    "print \"Bonjour!\"   # Cette ligne affiche \"Bonjour!\"\n",
    "# Vous pouvez utiliser le dièse aussi pour \"désactiver\" une ligne:\n",
    "# print \"Moi je ne fais rien\" "
   ]
  },
  {
   "cell_type": "markdown",
   "metadata": {
    "hidden": true
   },
   "source": [
    "En plus, Python connaît un commentaire spécial, le **docstring**, qui sert à la documentation. Il est placé tout au début du fichier, d'une fonction, ou d'une classe, entre des triple-apostrophes. Il est typiquement utilisé pour informer ce le code est censé faire, et comment il faut l'utiliser. Un exemple (on verra les fonctions plus loin): "
   ]
  },
  {
   "cell_type": "code",
   "execution_count": 3,
   "metadata": {
    "collapsed": true,
    "hidden": true
   },
   "outputs": [],
   "source": [
    "def au_carre(x):\n",
    "    \"\"\"Calcul le carré de la valeur d'entrée.\n",
    "    Prend qu'un seul argument numérique.\"\"\"\n",
    "    return x**2 "
   ]
  },
  {
   "cell_type": "markdown",
   "metadata": {
    "heading_collapsed": true,
    "hidden": true
   },
   "source": [
    "### 2.2 Les variables"
   ]
  },
  {
   "cell_type": "markdown",
   "metadata": {
    "hidden": true
   },
   "source": [
    "Une variable est un nom pour un morceau de données stocké dans la mémoire vive de l'ordinateur. Un nom de variable peut être composé de caractères (sans accents), de chiffres et «underscores» (soulignés). Le nom doit commencer par un caractère. Python distingue entre minuscules et majuscules. Essayez: \n"
   ]
  },
  {
   "cell_type": "code",
   "execution_count": 4,
   "metadata": {
    "collapsed": false,
    "hidden": true
   },
   "outputs": [
    {
     "name": "stdout",
     "output_type": "stream",
     "text": [
      "Avenue de la Gare, Lausanne  se trouve à  0.15 km\n"
     ]
    }
   ],
   "source": [
    "adresse = \"Avenue de la Gare, Lausanne\"\n",
    "code_postale = 1003\n",
    "distance_a_la_gare_km = 0.15\n",
    "print adresse, \" se trouve à \", distance_a_la_gare_km, \"km\" "
   ]
  },
  {
   "cell_type": "markdown",
   "metadata": {
    "hidden": true
   },
   "source": [
    "Par convention, on remplace les espaces par des underscores, et tous les noms de variables sont en minuscules. On utilisera les majuscules plus tard pour les noms de classes.\n",
    "\n",
    "Il est évidemment possible d'utiliser les variables pour des opérations et calculs: "
   ]
  },
  {
   "cell_type": "code",
   "execution_count": 5,
   "metadata": {
    "collapsed": false,
    "hidden": true
   },
   "outputs": [
    {
     "name": "stdout",
     "output_type": "stream",
     "text": [
      "150.0\n"
     ]
    }
   ],
   "source": [
    "distance_a_la_gare_metres = distance_a_la_gare_km * 1000\n",
    "print distance_a_la_gare_metres "
   ]
  },
  {
   "cell_type": "markdown",
   "metadata": {
    "hidden": true
   },
   "source": [
    "Il est possible d'attribuer la même valeur à plusieurs variables: "
   ]
  },
  {
   "cell_type": "code",
   "execution_count": 9,
   "metadata": {
    "collapsed": false,
    "hidden": true
   },
   "outputs": [
    {
     "name": "stdout",
     "output_type": "stream",
     "text": [
      "1 1 1\n"
     ]
    }
   ],
   "source": [
    "a = b = c = 1\n",
    "print a, b, c "
   ]
  },
  {
   "cell_type": "markdown",
   "metadata": {
    "hidden": true
   },
   "source": [
    "Pour supprimer une variable, on peut taper:"
   ]
  },
  {
   "cell_type": "code",
   "execution_count": 10,
   "metadata": {
    "collapsed": false,
    "hidden": true
   },
   "outputs": [],
   "source": [
    "del a     # ça efface la variable a "
   ]
  },
  {
   "cell_type": "markdown",
   "metadata": {
    "heading_collapsed": true,
    "hidden": true
   },
   "source": [
    "### 2.3 Quelques astuces pour la console interactive"
   ]
  },
  {
   "cell_type": "markdown",
   "metadata": {
    "hidden": true
   },
   "source": [
    "La console interactive iPython offre deux mécanismes qui peuvent considérablement simplifier la vie du programmeur:\n",
    "\n",
    "- Si vous commencez à taper un nom d'une variable ou d'une fonction, et vous appuyez sur la touche `Tab`, iPython va automatiquement lister toutes les variables et fonctions commençant avec le texte tapé: ![](img/ipython-autocomplete.png)\n",
    "\n",
    "- Si vous tapez `?nom_fonction`, iPython affichera la documentation pour `nom_fonction`. Essayez p.ex. `?str`.\n",
    "\n"
   ]
  },
  {
   "cell_type": "markdown",
   "metadata": {
    "heading_collapsed": true,
    "hidden": true
   },
   "source": [
    "### 2.4 Les iPython notebooks (ou Jupyter notebooks)"
   ]
  },
  {
   "cell_type": "markdown",
   "metadata": {
    "hidden": true
   },
   "source": [
    "Intégré dans iPython, il y a les *notebooks*. Tapez simplement dans la console:\n",
    "\n",
    "    ipython notebook\n",
    "\n",
    "Il y a alors une fenêtre de votre navigateur qui s'ouvre qui vous permet de créer des *notebooks*. Un notebook est un document de type `.ipynb` sur votre disque dur qui peut être visualisé à l'aide d'iPython dans votre navigateur Web. Le notebook permet de créer une série de *cellules* (ou containeurs) avec du contenu différent, en principe soit du [Markdown](http://daringfireball.net/projects/markdown/), donc du texte formaté, ou du code qui sera exécuté."
   ]
  },
  {
   "cell_type": "markdown",
   "metadata": {
    "heading_collapsed": true
   },
   "source": [
    "## 3. Types de données Python "
   ]
  },
  {
   "cell_type": "markdown",
   "metadata": {
    "hidden": true
   },
   "source": [
    "Python connaît un certain nombre de types de données, p.ex. pour les chaînes de caractères (type: **string**), les nombres entiers (type: **integer**), les nombre à virgule flottante (type: float), ou les arrays (type: list). Pour la plupart du temps, ces types fonctionnent de **manière implicite**, c'est-à-dire il ne faut pas les déclarer, comme p.ex. dans C. Par contre, on ne peut pas utiliser un integer à la place d'un string, ou un string à la place d'un float, etc. Il y a des fonctions de **conversion** pour faire cela. "
   ]
  },
  {
   "cell_type": "markdown",
   "metadata": {
    "heading_collapsed": true,
    "hidden": true
   },
   "source": [
    "### 3.1 Les chaînes de caractères"
   ]
  },
  {
   "cell_type": "markdown",
   "metadata": {
    "hidden": true
   },
   "source": [
    "Les chaînes de caractères (string) peuvent être déclarées très simplement avec des guillemets, apostrophes, ou triple guillemets: "
   ]
  },
  {
   "cell_type": "code",
   "execution_count": 18,
   "metadata": {
    "collapsed": true,
    "hidden": true
   },
   "outputs": [],
   "source": [
    "str1 = \"Une chaine de caracteres\"\n",
    "str2 = 'C\\'est aussi une chaîne de caracteres'\n",
    "str3 = \"\"\"Et ça aussi, c'est une chaîne de caractères.\n",
    "C'est une chaîne de caractères sur plusieurs lignes!\"\"\" "
   ]
  },
  {
   "cell_type": "markdown",
   "metadata": {
    "hidden": true
   },
   "source": [
    "Remarquez que dans la deuxième ligne, nous avons «protégé» l'apostrophe à l'intérieur du texte par un «backslash». C'est pour éviter que le string se termine à cet endroit déjà. On peut faire de même pour un string avec guillemets: "
   ]
  },
  {
   "cell_type": "code",
   "execution_count": 12,
   "metadata": {
    "collapsed": true,
    "hidden": true
   },
   "outputs": [],
   "source": [
    "str4 = \"Dis \\\"bonjour\\\"\" "
   ]
  },
  {
   "cell_type": "markdown",
   "metadata": {
    "hidden": true
   },
   "source": [
    "ou plus simplement: "
   ]
  },
  {
   "cell_type": "code",
   "execution_count": 13,
   "metadata": {
    "collapsed": true,
    "hidden": true
   },
   "outputs": [],
   "source": [
    "str5 = 'Dis \"bonjour\"'"
   ]
  },
  {
   "cell_type": "markdown",
   "metadata": {
    "hidden": true
   },
   "source": [
    "L'utilisation de guillemets ou apostrophes est strictement équivalent (contrairement à C ou PHP p.ex.). \n",
    "\n",
    "Nous pouvons demander la longueur d'un string avec `len`: "
   ]
  },
  {
   "cell_type": "code",
   "execution_count": 14,
   "metadata": {
    "collapsed": false,
    "hidden": true
   },
   "outputs": [
    {
     "name": "stdout",
     "output_type": "stream",
     "text": [
      "13\n"
     ]
    }
   ],
   "source": [
    "print len(str5) "
   ]
  },
  {
   "cell_type": "markdown",
   "metadata": {
    "hidden": true
   },
   "source": [
    "Pour extraire uniquement une sélection d'une chaîne, on peut utiliser des indices. P.ex. les 4 premiers caractères de str1 peuvent être obtenu comme suit: "
   ]
  },
  {
   "cell_type": "code",
   "execution_count": 15,
   "metadata": {
    "collapsed": false,
    "hidden": true
   },
   "outputs": [
    {
     "data": {
      "text/plain": [
       "'Une '"
      ]
     },
     "execution_count": 15,
     "metadata": {},
     "output_type": "execute_result"
    }
   ],
   "source": [
    "str1[0:4]      # Les indices en Python commencent à 0 "
   ]
  },
  {
   "cell_type": "markdown",
   "metadata": {
    "hidden": true
   },
   "source": [
    "ce qui est équivalent à "
   ]
  },
  {
   "cell_type": "code",
   "execution_count": 16,
   "metadata": {
    "collapsed": false,
    "hidden": true
   },
   "outputs": [
    {
     "data": {
      "text/plain": [
       "'Une '"
      ]
     },
     "execution_count": 16,
     "metadata": {},
     "output_type": "execute_result"
    }
   ],
   "source": [
    "str1[:4]       # Le 0 initial peut être omis "
   ]
  },
  {
   "cell_type": "markdown",
   "metadata": {
    "hidden": true
   },
   "source": [
    "Si on veut omettre les 3 derniers caractères, il suffit d'utiliser des indices négatifs: "
   ]
  },
  {
   "cell_type": "code",
   "execution_count": 19,
   "metadata": {
    "collapsed": false,
    "hidden": true
   },
   "outputs": [
    {
     "data": {
      "text/plain": [
       "'Une chaine de caracte'"
      ]
     },
     "execution_count": 19,
     "metadata": {},
     "output_type": "execute_result"
    }
   ],
   "source": [
    "str1[:-3] "
   ]
  },
  {
   "cell_type": "markdown",
   "metadata": {
    "hidden": true
   },
   "source": [
    "Et si on veut juste les 3 derniers caractères:\n"
   ]
  },
  {
   "cell_type": "code",
   "execution_count": 20,
   "metadata": {
    "collapsed": false,
    "hidden": true
   },
   "outputs": [
    {
     "data": {
      "text/plain": [
       "'res'"
      ]
     },
     "execution_count": 20,
     "metadata": {},
     "output_type": "execute_result"
    }
   ],
   "source": [
    "str1[-3:] "
   ]
  },
  {
   "cell_type": "markdown",
   "metadata": {
    "hidden": true
   },
   "source": [
    "Évidemment, on peut aussi juste extraire un seul caractère: "
   ]
  },
  {
   "cell_type": "code",
   "execution_count": 21,
   "metadata": {
    "collapsed": false,
    "hidden": true
   },
   "outputs": [
    {
     "data": {
      "text/plain": [
       "'c'"
      ]
     },
     "execution_count": 21,
     "metadata": {},
     "output_type": "execute_result"
    }
   ],
   "source": [
    "str1[4]        # Le 5ème caractère "
   ]
  },
  {
   "cell_type": "markdown",
   "metadata": {
    "heading_collapsed": true,
    "hidden": true
   },
   "source": [
    "#### Quelques autres fonctions utiles"
   ]
  },
  {
   "cell_type": "markdown",
   "metadata": {
    "hidden": true
   },
   "source": [
    "Beaucoup de fonctions permettent de manipuler les chaînes de caractères. Voici un bref aperçu sur les fonctions les plus utiles. Les fonctions suivent le string (ou le nom de la variable), séparées par un point. \n",
    "\n",
    "Pour enlever des espaces blancs (espace, tabulateur, retour de lignes etc.) au début et à la fin d'une chaîne: "
   ]
  },
  {
   "cell_type": "code",
   "execution_count": 23,
   "metadata": {
    "collapsed": false,
    "hidden": true
   },
   "outputs": [
    {
     "data": {
      "text/plain": [
       "\"C'est tres pratique pour nettoyer\""
      ]
     },
     "execution_count": 23,
     "metadata": {},
     "output_type": "execute_result"
    }
   ],
   "source": [
    "\" C'est tres pratique pour nettoyer   \\n\".strip() "
   ]
  },
  {
   "cell_type": "markdown",
   "metadata": {
    "hidden": true
   },
   "source": [
    "(le «\\n» est un signe de «nouvelle ligne»). \n",
    "\n",
    "Pour enlever un ou plusieurs caractères spécifiques: "
   ]
  },
  {
   "cell_type": "code",
   "execution_count": 24,
   "metadata": {
    "collapsed": false,
    "hidden": true
   },
   "outputs": [
    {
     "data": {
      "text/plain": [
       "\"Enlever les traits-d'union et espaces\""
      ]
     },
     "execution_count": 24,
     "metadata": {},
     "output_type": "execute_result"
    }
   ],
   "source": [
    "\"--- Enlever les traits-d'union et espaces ---\".strip('- ') "
   ]
  },
  {
   "cell_type": "markdown",
   "metadata": {
    "hidden": true
   },
   "source": [
    "Pour chercher un texte à l'intérieur d'une chaîne:"
   ]
  },
  {
   "cell_type": "code",
   "execution_count": 25,
   "metadata": {
    "collapsed": false,
    "hidden": true
   },
   "outputs": [
    {
     "data": {
      "text/plain": [
       "True"
      ]
     },
     "execution_count": 25,
     "metadata": {},
     "output_type": "execute_result"
    }
   ],
   "source": [
    "\"auto\" in \"C'est une belle automobile\"   # Retourne True or False "
   ]
  },
  {
   "cell_type": "code",
   "execution_count": 26,
   "metadata": {
    "collapsed": false,
    "hidden": true
   },
   "outputs": [
    {
     "data": {
      "text/plain": [
       "16"
      ]
     },
     "execution_count": 26,
     "metadata": {},
     "output_type": "execute_result"
    }
   ],
   "source": [
    "\"C'est une belle automobile\".find(\"auto\")\n",
    "    # Retourne l'endroit dans la chaîne ou \"auto\" a été trouvé,\n",
    "    # ou -1 si la chaîne n'a pas été trouvée "
   ]
  },
  {
   "cell_type": "markdown",
   "metadata": {
    "hidden": true
   },
   "source": [
    "Et pour remplacer un texte par un autre: "
   ]
  },
  {
   "cell_type": "code",
   "execution_count": 27,
   "metadata": {
    "collapsed": false,
    "hidden": true
   },
   "outputs": [
    {
     "data": {
      "text/plain": [
       "\"C'est une belle moto\""
      ]
     },
     "execution_count": 27,
     "metadata": {},
     "output_type": "execute_result"
    }
   ],
   "source": [
    "\"C'est une belle voiture\".replace('voiture', 'moto') "
   ]
  },
  {
   "cell_type": "markdown",
   "metadata": {
    "hidden": true
   },
   "source": [
    "Pour convertir une chaîne en liste en utilisant un caractère de séparation: "
   ]
  },
  {
   "cell_type": "code",
   "execution_count": 29,
   "metadata": {
    "collapsed": false,
    "hidden": true
   },
   "outputs": [
    {
     "data": {
      "text/plain": [
       "['Separer', 'les', 'mots']"
      ]
     },
     "execution_count": 29,
     "metadata": {},
     "output_type": "execute_result"
    }
   ],
   "source": [
    "\"Separer les mots\".split()"
   ]
  },
  {
   "cell_type": "code",
   "execution_count": 30,
   "metadata": {
    "collapsed": false,
    "hidden": true
   },
   "outputs": [
    {
     "data": {
      "text/plain": [
       "['Separer les phrases', ' Par des points', '']"
      ]
     },
     "execution_count": 30,
     "metadata": {},
     "output_type": "execute_result"
    }
   ],
   "source": [
    "\"Separer les phrases. Par des points.\".split('.') "
   ]
  },
  {
   "cell_type": "markdown",
   "metadata": {
    "hidden": true
   },
   "source": [
    "Nous allons discuter les listes plus en détail un peu plus loin.\n",
    "\n",
    "Une documentation plus exhaustive des méthodes s'appliquant à des string peut être trouvée à l'URL: [http://docs.python.org/library/stdtypes.html#string-methods](http://docs.python.org/library/stdtypes.html#string-methods)."
   ]
  },
  {
   "cell_type": "markdown",
   "metadata": {
    "hidden": true
   },
   "source": [
    "### Les chaînes unicode"
   ]
  },
  {
   "cell_type": "markdown",
   "metadata": {
    "hidden": true
   },
   "source": [
    "Dans Python, il y a également des chaînes de caractères un peu différentes: les chaînes unicode. Unicode permet d'utiliser les caractères de tous les alphabets. Les chaînes unicodes sont pour la plupart du temps transparentes dans Python. Pour créer un string unicode, il suffit de mettre un «u» devant la chaîne: "
   ]
  },
  {
   "cell_type": "code",
   "execution_count": 37,
   "metadata": {
    "collapsed": false,
    "hidden": true
   },
   "outputs": [
    {
     "name": "stdout",
     "output_type": "stream",
     "text": [
      "C'est une chaîne de caractères Unicode\n"
     ]
    }
   ],
   "source": [
    "print u\"C'est une chaîne de caractères Unicode\" "
   ]
  },
  {
   "cell_type": "markdown",
   "metadata": {
    "hidden": true
   },
   "source": [
    "Il est possible de convertir une chaîne unicode vers une chaîne 8-bits d'un encodage donné, et vice-versa:\n"
   ]
  },
  {
   "cell_type": "code",
   "execution_count": 35,
   "metadata": {
    "collapsed": false,
    "hidden": true
   },
   "outputs": [
    {
     "name": "stdout",
     "output_type": "stream",
     "text": [
      "àéè\n"
     ]
    }
   ],
   "source": [
    "print u\"àéè\".encode('utf-8') "
   ]
  },
  {
   "cell_type": "code",
   "execution_count": 36,
   "metadata": {
    "collapsed": false,
    "hidden": true
   },
   "outputs": [
    {
     "name": "stdout",
     "output_type": "stream",
     "text": [
      "Ã Ã©Ã¨\n"
     ]
    }
   ],
   "source": [
    "print unicode('àéè', 'iso-8859-1') "
   ]
  },
  {
   "cell_type": "code",
   "execution_count": null,
   "metadata": {
    "collapsed": true,
    "hidden": true
   },
   "outputs": [],
   "source": []
  }
 ],
 "metadata": {
  "kernelspec": {
   "display_name": "Python 3",
   "language": "python",
   "name": "python3"
  },
  "language_info": {
   "codemirror_mode": {
    "name": "ipython",
    "version": 3
   },
   "file_extension": ".py",
   "mimetype": "text/x-python",
   "name": "python",
   "nbconvert_exporter": "python",
   "pygments_lexer": "ipython3",
   "version": "3.6.0"
  },
  "latex_envs": {
   "LaTeX_envs_menu_present": true,
   "bibliofile": "biblio.bib",
   "cite_by": "apalike",
   "current_citInitial": 1,
   "eqLabelWithNumbers": true,
   "eqNumInitial": 1,
   "labels_anchors": false,
   "latex_user_defs": false,
   "report_style_numbering": false,
   "user_envs_cfg": false
  }
 },
 "nbformat": 4,
 "nbformat_minor": 0
}
